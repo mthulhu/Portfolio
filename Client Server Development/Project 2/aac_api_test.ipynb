{
 "cells": [
  {
   "cell_type": "code",
   "execution_count": 2,
   "id": "ee4e3948",
   "metadata": {
    "scrolled": false
   },
   "outputs": [
    {
     "name": "stdout",
     "output_type": "stream",
     "text": [
      "Create success\n",
      "Read success\n",
      "Update success, 1 documents modified\n",
      "Delete success, 1 documents deleted\n"
     ]
    }
   ],
   "source": [
    "from aac_api import AnimalShelter\n",
    "\n",
    "animalShelter = AnimalShelter()\n",
    "\n",
    "###### Create test ####################################\n",
    "data = {\n",
    "    \"rec_num\": 7,\n",
    "    \"age_upon_outcome\": \"7 years\",\n",
    "    \"animal_id\": \"A123456\",\n",
    "    \"animal_type\": \"Cat\",\n",
    "    \"breed\": \"Sphynx\",\n",
    "    \"color\": \"Black\",\n",
    "    \"date_of_birth\": \"2015-01-27\",\n",
    "    \"datetime\": \"2022-01-28 14:15:00\",\n",
    "    \"monthyear\": \"2022-01-28T14:15:00\",\n",
    "    \"name\": \"Calcifer\",\n",
    "    \"outcome_subtype\": \"Adoption\",\n",
    "    \"outcome_type\": \"Adopted\",\n",
    "    \"sex_upon_outcome\": \"Neutered Male\",\n",
    "    \"location_lat\": 40.712776,\n",
    "    \"location_long\": -74.005974,\n",
    "    \"age_upon_outcome_in_weeks\": 364\n",
    "} \n",
    "if animalShelter.create(data):\n",
    "    print(\"Create success\")\n",
    "else:\n",
    "    print(\"Create fail\")\n",
    "\n",
    "###### Read test ######################################\n",
    "query = {\"animal_type\": \"Cat\", \"name\": \"Calcifer\"}\n",
    "results = animalShelter.read(query)\n",
    "if results:\n",
    "    print(\"Read success\")\n",
    "else:\n",
    "    print(\"Read fail\")\n",
    "\n",
    "###### Update test ######################################\n",
    "query = {\"animal_type\": \"Cat\", \"name\": \"Calcifer\"}\n",
    "update_data = {\"name\": \"Mango\"}\n",
    "results = animalShelter.update(query, update_data)\n",
    "if results > 0:\n",
    "    print(f\"Update success, {results} documents modified\")\n",
    "else:\n",
    "    print(\"Update fail\")\n",
    "\n",
    "###### Delete test ######################################\n",
    "query = {\"name\": \"Mango\"}\n",
    "delete_count = animalShelter.delete(query)\n",
    "if delete_count > 0:\n",
    "    print(f\"Delete success, {delete_count} documents deleted\")\n",
    "else:\n",
    "    print(\"Delete fail\")"
   ]
  },
  {
   "cell_type": "code",
   "execution_count": null,
   "id": "77efe068",
   "metadata": {},
   "outputs": [],
   "source": [
    "\n",
    "    "
   ]
  },
  {
   "cell_type": "code",
   "execution_count": null,
   "id": "7605260e",
   "metadata": {},
   "outputs": [],
   "source": []
  }
 ],
 "metadata": {
  "kernelspec": {
   "display_name": "Python 3 (ipykernel)",
   "language": "python",
   "name": "python3"
  },
  "language_info": {
   "codemirror_mode": {
    "name": "ipython",
    "version": 3
   },
   "file_extension": ".py",
   "mimetype": "text/x-python",
   "name": "python",
   "nbconvert_exporter": "python",
   "pygments_lexer": "ipython3",
   "version": "3.9.12"
  }
 },
 "nbformat": 4,
 "nbformat_minor": 5
}
